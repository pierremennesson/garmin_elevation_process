{
 "cells": [
  {
   "cell_type": "code",
   "execution_count": 1,
   "metadata": {
    "scrolled": true
   },
   "outputs": [],
   "source": [
    "%load_ext autoreload\n",
    "%autoreload 2\n",
    "%reload_ext autoreload\n",
    "\n",
    "import osmnx as ox\n",
    "from functools import partial\n",
    "import numpy as np\n",
    "import pandas as pd\n",
    "from multiprocessing import Pool,cpu_count\n",
    "import matplotlib.pyplot as plt\n",
    "import networkx as nx\n",
    "import geopandas as gpd\n",
    "from shapely.geometry import MultiLineString,MultiPoint,Point,LineString,MultiPolygon\n",
    "from shapely import wkt\n",
    "from shapely.ops import nearest_points\n",
    "import glob\n",
    "import time\n",
    "import gpxpy\n",
    "from itertools import groupby\n",
    "import random\n",
    "import sklearn\n",
    "from mlinsights.mlmodel import PiecewiseRegressor\n",
    "from sklearn.tree import DecisionTreeRegressor\n",
    "from sklearn.ensemble import RandomForestRegressor\n",
    "from sklearn.preprocessing import PolynomialFeatures\n",
    "from scipy.signal import savgol_filter\n",
    "from lib_garmin_elevation import *"
   ]
  },
  {
   "cell_type": "code",
   "execution_count": 2,
   "metadata": {},
   "outputs": [
    {
     "name": "stderr",
     "output_type": "stream",
     "text": [
      "\n",
      "KeyboardInterrupt\n",
      "\n"
     ]
    }
   ],
   "source": [
    "place_name='Corse, France'\n",
    "G_osm_dir=ox.graph_from_place(place_name,network_type='drive')\n",
    "G_osm=to_multi_graph(G_osm_dir)\n",
    "crs=ox.graph_to_gdfs(G_osm,edges=False).estimate_utm_crs()\n",
    "G_osm=ox.project_graph(G_osm,to_crs=crs)\n",
    "t1=time.time()\n",
    "add_missing_geometries(G_osm)\n",
    "t2=time.time()\n",
    "print(t2-t1)\n",
    "\n",
    "ox.plot_graph(G_osm)\n"
   ]
  },
  {
   "cell_type": "code",
   "execution_count": null,
   "metadata": {},
   "outputs": [],
   "source": [
    "def parallelized_preprocess(file_paths):\n",
    "    garmin_dfs=[preprocess(file_path,G_osm,crs=crs) for file_path in file_paths]\n",
    "    return pd.concat(garmin_dfs)"
   ]
  },
  {
   "cell_type": "code",
   "execution_count": null,
   "metadata": {
    "scrolled": true
   },
   "outputs": [],
   "source": [
    "GENERATE=True\n",
    "navigation_df_path='./navigation_df.csv'\n",
    "if GENERATE:\n",
    "    t1=time.time()\n",
    "    nb_cpu=cpu_count()-1\n",
    "    file_paths=glob.glob('./garmin_activities/*.gpx')\n",
    "    chunked_file_paths=chunk(file_paths,nb_cpu)\n",
    "    with Pool(nb_cpu) as p:\n",
    "        navigation_dfs=p.map(parallelized_preprocess,chunked_file_paths)\n",
    "    navigation_df=pd.concat(navigation_dfs)\n",
    "    navigation_df=navigation_df.to_crs('epsg:4326')\n",
    "    navigation_df.to_csv(navigation_df_path,index=False)\n",
    "    navigation_df=navigation_df.to_crs(crs)\n",
    "    t2=time.time()\n",
    "    print(t2-t1)\n",
    "else:\n",
    "    navigation_df=pd.read_csv(navigation_df_path)\n",
    "    navigation_df['geometry']=navigation_df['geometry'].apply(wkt.loads)\n",
    "    navigation_df=gpd.GeoDataFrame(navigation_df,geometry='geometry',crs='epsg:4326')\n",
    "    navigation_df['time']=pd.to_datetime(navigation_df['time'])\n",
    "    navigation_df['edge']=navigation_df['edge'].apply(eval)\n",
    "    navigation_df=navigation_df.to_crs(crs)\n",
    "navigation_df"
   ]
  },
  {
   "cell_type": "code",
   "execution_count": null,
   "metadata": {},
   "outputs": [],
   "source": [
    "plt.rcParams['figure.figsize']=(20,20)\n",
    "t1=time.time()\n",
    "G_navigation=build_multidigraph(G_osm,navigation_df)\n",
    "t2=time.time()\n",
    "print(t2-t1)\n"
   ]
  },
  {
   "cell_type": "code",
   "execution_count": null,
   "metadata": {},
   "outputs": [],
   "source": [
    "edges=sorted(navigation_df['edge'].unique(),key=lambda edge:G_osm.get_edge_data(*edge)['length'])\n",
    "ox.plot_graph(nx.edge_subgraph(G_osm,edges))"
   ]
  },
  {
   "cell_type": "code",
   "execution_count": null,
   "metadata": {},
   "outputs": [],
   "source": [
    "plt.rcParams['figure.figsize']=(5,5)\n",
    "t1=time.time()\n",
    "dual_G=build_dual_graph(G_navigation)\n",
    "t2=time.time()\n",
    "print(t2-t1)\n",
    "pos={edge:(G_navigation.nodes()[edge[0]]['x']+G_navigation.nodes()[edge[1]]['x'],G_navigation.nodes()[edge[0]]['y']+G_navigation.nodes()[edge[1]]['y']) for edge in dual_G.nodes()}\n",
    "nx.draw(dual_G,pos=pos,node_size=1)"
   ]
  },
  {
   "cell_type": "code",
   "execution_count": null,
   "metadata": {},
   "outputs": [],
   "source": [
    "t1=time.time()\n",
    "dual_tree=build_dual_tree(dual_G)\n",
    "t2=time.time()\n",
    "print(t2-t1)\n",
    "pos={edge:(G_navigation.nodes()[edge[0]]['x']+G_navigation.nodes()[edge[1]]['x'],G_navigation.nodes()[edge[0]]['y']+G_navigation.nodes()[edge[1]]['y']) for edge in dual_G.nodes()}\n",
    "nx.draw(dual_tree,pos=pos,node_size=1)"
   ]
  },
  {
   "cell_type": "code",
   "execution_count": null,
   "metadata": {},
   "outputs": [],
   "source": [
    "t1=time.time()\n",
    "paths=graph_decomposition(dual_tree)\n",
    "t2=time.time()\n",
    "print(t2-t1)\n",
    "len(paths)"
   ]
  },
  {
   "cell_type": "code",
   "execution_count": null,
   "metadata": {},
   "outputs": [],
   "source": [
    "colors=['r','g','b','y','k','m','c']\n",
    "for k,path in enumerate(paths[:]):\n",
    "    for edge in path:\n",
    "        data=G_osm.get_edge_data(*edge)\n",
    "        if data is None:\n",
    "            data=G_osm.get_edge_data(edge[1],edge[0],edge[2])\n",
    "        ls=data['geometry']\n",
    "        coords=np.array(ls.coords)\n",
    "        plt.plot(coords[:,0],coords[:,1],c=colors[k%len(colors)])"
   ]
  },
  {
   "cell_type": "code",
   "execution_count": null,
   "metadata": {},
   "outputs": [],
   "source": [
    "path=paths[1]\n",
    "len(path)"
   ]
  },
  {
   "cell_type": "code",
   "execution_count": null,
   "metadata": {},
   "outputs": [],
   "source": [
    "plt.rcParams['figure.figsize']=(8,8)\n",
    "\n",
    "\n",
    "t1=time.time()\n",
    "meta_segments,nodes_positions=get_meta_segments_along_path(path,G_navigation,G_osm)\n",
    "t2=time.time()\n",
    "print(t2-t1)\n",
    "for elem in meta_segments:\n",
    "    X,Y=elem['X'],elem['Y']\n",
    "    plt.plot(X,Y)\n",
    "\n"
   ]
  },
  {
   "cell_type": "code",
   "execution_count": null,
   "metadata": {},
   "outputs": [],
   "source": [
    "ox.plot_graph(nx.edge_subgraph(G_osm_dir,map(tuple,path[:])))"
   ]
  },
  {
   "cell_type": "code",
   "execution_count": null,
   "metadata": {},
   "outputs": [],
   "source": [
    "plt.rcParams['figure.figsize']=(8,8)\n",
    "t1=time.time()\n",
    "meta_segments=split_meta_segments(meta_segments,max_delta_T=900)\n",
    "meta_segments=harmonize_meta_segments(meta_segments)\n",
    "meta_segments=discard_outliers(meta_segments)\n",
    "t2=time.time()\n",
    "pairwise_shifts,affine_meta_segments=get_pairwise_shifts(meta_segments,overlay_threshold=0.25,)\n",
    "t3=time.time()\n",
    "print(t3-t2,t2-t1)\n",
    "for meta_segment in meta_segments:\n",
    "    plt.plot(meta_segment['X'],meta_segment['Y'])\n",
    "for k in affine_meta_segments:\n",
    "    meta_segment=meta_segments[k]\n",
    "    plt.plot(meta_segment['X'],meta_segment['Y'],c='k')    "
   ]
  },
  {
   "cell_type": "code",
   "execution_count": null,
   "metadata": {},
   "outputs": [],
   "source": [
    "plt.rcParams['figure.figsize']=(5,5)\n",
    "\n",
    "file_paths=list(np.unique(navigation_df['file_path']))\n",
    "N=len(meta_segments)\n",
    "t1=time.time()\n",
    "shift_G=get_shifts_graph(pairwise_shifts,correlation_treshold=0.99)\n",
    "t2=time.time()\n",
    "print(t2-t1)\n",
    "\n",
    "pos={k:(np.mean(meta_segments[k]['X']),file_paths.index(meta_segments[k]['file_path'])) for k in range(N)} \n",
    "nx.draw(shift_G,pos=pos,with_labels=True)"
   ]
  },
  {
   "cell_type": "code",
   "execution_count": null,
   "metadata": {},
   "outputs": [],
   "source": [
    "t1=time.time()\n",
    "tree_edges=list(nx.minimum_spanning_edges(nx.Graph(shift_G),weight='weight',data=False))\n",
    "tree_edges+=[(v,u) for u,v in tree_edges]\n",
    "shift_tree=nx.edge_subgraph(shift_G,tree_edges)\n",
    "t2=time.time()\n",
    "print(t2-t1)\n",
    "nx.draw(shift_tree,pos=pos,with_labels=True)"
   ]
  },
  {
   "cell_type": "code",
   "execution_count": null,
   "metadata": {},
   "outputs": [],
   "source": [
    "plt.rcParams['figure.figsize']=(10,10)\n",
    "t1=time.time()\n",
    "corrected_meta_segments=realign_meta_segments_from_tree(shift_tree,meta_segments,min_tree_components=1)\n",
    "corrected_meta_segments+=[meta_segments[k] for k in affine_meta_segments]\n",
    "t2=time.time()\n",
    "print(t2-t1)\n",
    "for meta_segment in corrected_meta_segments:\n",
    "    plt.plot(meta_segment['X'],meta_segment['Y'])\n",
    "\n"
   ]
  },
  {
   "cell_type": "code",
   "execution_count": null,
   "metadata": {},
   "outputs": [],
   "source": [
    "cover,extremities=get_cover(corrected_meta_segments,min_count=2)\n",
    "len(cover)"
   ]
  },
  {
   "cell_type": "code",
   "execution_count": null,
   "metadata": {},
   "outputs": [],
   "source": [
    "i=0\n",
    "sub_meta_segments=[corrected_meta_segments[k] for k in cover[i]]\n",
    "x_min,x_max=extremities[i]\n",
    "plt.xlim(x_min,x_max)\n",
    "for meta_segment in sub_meta_segments:\n",
    "    plt.plot(meta_segment['X'],meta_segment['Y'])    \n"
   ]
  },
  {
   "cell_type": "code",
   "execution_count": null,
   "metadata": {},
   "outputs": [],
   "source": [
    "plt.xlim(x_min,x_max)\n",
    "intermediate_distance=1000\n",
    "intermediate_points=np.linspace(x_min,x_max,max(round((x_max-x_min)/intermediate_distance)+1,2))\n",
    "for meta_segment in sub_meta_segments:\n",
    "    plt.plot(meta_segment['X'],meta_segment['Y']) \n",
    "intermediate_elevations=get_intermediate_elevation(intermediate_points,sub_meta_segments)\n",
    "for k,l in enumerate(intermediate_elevations):\n",
    "    plt.scatter(intermediate_points[k],np.nanmedian(l))"
   ]
  },
  {
   "cell_type": "code",
   "execution_count": null,
   "metadata": {},
   "outputs": [],
   "source": [
    "plt.xlim(x_min,x_max)\n",
    "output=approximate_derivative(sub_meta_segments,x_min=x_min,x_max=x_max,\n",
    "                                    min_samples_leaf=25,min_impurity_decrease=0.5*float('1e-6'))\n",
    "if output is not None:\n",
    "    X,dYdX,model=output\n",
    "    Z=model.predict(X.reshape(-1,1))\n",
    "    plt.scatter(X,dYdX,c='b',marker='x')\n",
    "    plt.plot([0,X[-1]],[0,0],c='r')\n",
    "    plt.plot(X,Z,c='g')\n"
   ]
  },
  {
   "cell_type": "code",
   "execution_count": null,
   "metadata": {},
   "outputs": [],
   "source": [
    "plt.xlim(x_min,x_max)\n",
    "intervals=simplify_tree(model.tree_,x_min,x_max,min_interval_size=100.)\n",
    "plt.scatter(X,dYdX,c='b',marker='x')\n",
    "plt.plot([0,X[-1]],[0,0],c='r')\n",
    "for x1,x2,v in intervals:\n",
    "    plt.plot([x1,x2],[v,v],c='g')\n",
    "for k in range(len(intervals)-1):\n",
    "    _,x1,v1=intervals[k]\n",
    "    x2,_,v2=intervals[k+1]\n",
    "    plt.plot([x1,x2],[v1,v2],c='g')"
   ]
  },
  {
   "cell_type": "code",
   "execution_count": null,
   "metadata": {},
   "outputs": [],
   "source": [
    "plt.xlim(x_min,x_max)\n",
    "XX,YY=infer_curve_from_estimated_gradient(intervals,np.nanmedian(intermediate_elevations[0]))\n",
    "\n",
    "plt.plot(XX,YY,c='r')\n",
    "for k,l in enumerate(intermediate_elevations):\n",
    "    plt.scatter(intermediate_points[k],np.nanmedian(l))\n",
    "print('%f m elevation difference on a %f kms long path'%(YY[-1]-np.nanmedian(intermediate_elevations[-1]),(x_max-x_min)/1000))"
   ]
  },
  {
   "cell_type": "code",
   "execution_count": null,
   "metadata": {},
   "outputs": [],
   "source": [
    "plt.xlim(x_min,x_max)\n",
    "s=0\n",
    "for k in range(len(intermediate_points)-1):\n",
    "    sub_intervals=[[min(max(x1,intermediate_points[k]),intermediate_points[k+1]),min(max(x2,intermediate_points[k]),intermediate_points[k+1]),v] for x1,x2,v in intervals if x2>=intermediate_points[k] and x1<=intermediate_points[k+1]]\n",
    "    XX,YY=infer_curve_from_estimated_gradient(sub_intervals,np.nanmedian(intermediate_elevations[k]))\n",
    "    plt.plot(XX,YY,c='r')\n",
    "    delta_expected=np.nanmedian(intermediate_elevations[k+1])-np.nanmedian(intermediate_elevations[k])\n",
    "    YY,delta=adjust_curve_elevation(YY,delta_expected)\n",
    "    s+=abs(delta-delta_expected)\n",
    "    plt.plot(XX,YY,c='g')\n",
    "\n",
    "    \n",
    "    plt.scatter([intermediate_points[k],intermediate_points[k+1]],[np.nanmedian(intermediate_elevations[k]),np.nanmedian(intermediate_elevations[k+1])])\n",
    "print('total error %f:'%s)"
   ]
  },
  {
   "cell_type": "code",
   "execution_count": null,
   "metadata": {},
   "outputs": [],
   "source": [
    "plt.xlim(x_min,x_max)\n",
    "X,Y=approximate_elevation_profile(sub_meta_segments,x_min,x_max,intermediate_distance=1000)\n",
    "X,Y=np.array(X),np.array(Y)\n",
    "plt.plot(X,Y)\n",
    "for k,l in enumerate(intermediate_elevations):\n",
    "    plt.scatter(intermediate_points[k],np.nanmedian(l))\n",
    "    \n"
   ]
  },
  {
   "cell_type": "code",
   "execution_count": null,
   "metadata": {},
   "outputs": [],
   "source": [
    "nodes_data,edges_data=collect_elevation_information_from_sub_meta_segments(path,nodes_positions,sub_meta_segments,x_min,x_max)\n",
    "\n",
    "for k,edge in enumerate(path):\n",
    "    if edge in edges_data:\n",
    "        L=edges_data[edge]\n",
    "        for elem in L:\n",
    "            plt.plot(nodes_positions[k]+elem['X'],elem['Y'])\n",
    "    if edge[0] in nodes_data:\n",
    "        plt.scatter(nodes_positions[k],nodes_data[edge[0]])\n",
    "    if edge[1] in nodes_data:\n",
    "        plt.scatter(nodes_positions[k+1],nodes_data[edge[1]])            \n",
    "\n"
   ]
  }
 ],
 "metadata": {
  "kernelspec": {
   "display_name": "pygmt",
   "language": "python",
   "name": "pygmt"
  },
  "language_info": {
   "codemirror_mode": {
    "name": "ipython",
    "version": 3
   },
   "file_extension": ".py",
   "mimetype": "text/x-python",
   "name": "python",
   "nbconvert_exporter": "python",
   "pygments_lexer": "ipython3",
   "version": "3.11.5"
  }
 },
 "nbformat": 4,
 "nbformat_minor": 4
}
